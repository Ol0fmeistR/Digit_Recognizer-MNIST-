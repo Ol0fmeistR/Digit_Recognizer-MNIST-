{
  "cells": [
    {
      "metadata": {
        "collapsed": true,
        "_cell_guid": "b1076dfc-b9ad-4769-8c92-a6c4dae69d19",
        "_uuid": "8f2839f25d086af736a60e9eeb907d3b93b6e0e5",
        "trusted": false
      },
      "cell_type": "code",
      "source": "# This Python 3 environment comes with many helpful analytics libraries installed\n# It is defined by the kaggle/python docker image: https://github.com/kaggle/docker-python\n# For example, here's several helpful packages to load in \n\nimport numpy as np # linear algebra\nimport pandas as pd # data processing, CSV file I/O (e.g. pd.read_csv)\n\n# Input data files are available in the \"../input/\" directory.\n# For example, running this (by clicking run or pressing Shift+Enter) will list the files in the input directory\n\nimport os\nprint(os.listdir(\"../input\"))\n\n# Any results you write to the current directory are saved as output.",
      "execution_count": null,
      "outputs": []
    },
    {
      "metadata": {
        "collapsed": true,
        "_cell_guid": "79c7e3d0-c299-4dcb-8224-4455121ee9b0",
        "_uuid": "d629ff2d2480ee46fbb7e2d37f6b5fab8052498a",
        "trusted": false
      },
      "cell_type": "code",
      "source": "import pandas as pd\nimport numpy as np\nimport matplotlib.pyplot as plt\nimport matplotlib.image as mpimg\nimport seaborn as sns\n%matplotlib inline\n\nnp.random.seed(2)\n\nfrom sklearn.model_selection import train_test_split\nimport itertools\n\nfrom keras.utils.np_utils import to_categorical # convert to one-hot-encoding\nfrom keras.models import Sequential\nfrom keras.layers import Dense, Dropout, Flatten, Conv2D, MaxPool2D\nfrom keras.layers.normalization import BatchNormalization\nfrom keras.optimizers import Adam\nfrom keras.preprocessing.image import ImageDataGenerator\nfrom keras.callbacks import ReduceLROnPlateau\n\n\nsns.set(style='white', context='notebook', palette='deep')",
      "execution_count": null,
      "outputs": []
    },
    {
      "metadata": {
        "collapsed": true,
        "_cell_guid": "c8b6696e-211c-413b-bb18-d43dd9d0dd35",
        "_uuid": "ee25f4207954c07e7f433d4a95ee3ca160323587",
        "trusted": false
      },
      "cell_type": "code",
      "source": "# Load the data\ntrain = pd.read_csv(\"../input/train.csv\")\ntest = pd.read_csv(\"../input/test.csv\")",
      "execution_count": null,
      "outputs": []
    },
    {
      "metadata": {
        "collapsed": true,
        "_cell_guid": "f67cc2ed-e221-415a-9883-50b74b986790",
        "_uuid": "7c4aa9e9e1d26eec8ab2908fb42b7f4cb043b2c6",
        "trusted": false
      },
      "cell_type": "code",
      "source": "Y_train = train[\"label\"]\n\n# Drop the 'label' column from training set\nX_train = train.drop(labels = [\"label\"],axis = 1) \n\ng = sns.countplot(Y_train)\n\nY_train.value_counts()\n\n#Checking for missing values which would result in corrupted images\nX_train.isnull().any().describe()\ntest.isnull().any().describe()",
      "execution_count": null,
      "outputs": []
    },
    {
      "metadata": {
        "collapsed": true,
        "_cell_guid": "61bc7d05-3e05-4675-a97d-aba0ba3f506c",
        "_uuid": "a41c2f79f0c3528de3453e655a88c36dacf787d7",
        "trusted": false
      },
      "cell_type": "code",
      "source": "# Normalizing the data since CNN will then converge faster when data lies between mean 0 and SD 1\nX_train = X_train / 255.0\ntest = test / 255.0",
      "execution_count": null,
      "outputs": []
    },
    {
      "metadata": {
        "collapsed": true,
        "_cell_guid": "4af0c862-2d35-4d52-9988-43e64cd6e8c8",
        "_uuid": "d55a9e1fe75c22d753a04653247155a94ac28833",
        "trusted": false
      },
      "cell_type": "code",
      "source": "# Reshape image in 3 dimensions (height = 28px, width = 28px , channels(since b&w) = 1)\nX_train = X_train.values.reshape(-1,28,28,1)\ntest = test.values.reshape(-1,28,28,1) #-1 indicates batch size and channel = 3 for colored images",
      "execution_count": null,
      "outputs": []
    },
    {
      "metadata": {
        "collapsed": true,
        "_cell_guid": "8a52cb37-b0fb-44e8-a52a-1797af176043",
        "_uuid": "e71b6c2d889c822bbbe43bd5014b630ffb14515b",
        "trusted": false
      },
      "cell_type": "code",
      "source": "Y_train = to_categorical(Y_train, num_classes = 10) #one hot encoding the labels",
      "execution_count": null,
      "outputs": []
    },
    {
      "metadata": {
        "collapsed": true,
        "_cell_guid": "c3476e81-3d20-4583-828d-f34cc643fb5f",
        "_uuid": "4430a6a1ef118ebab06eaef9999120d330d009db",
        "trusted": false
      },
      "cell_type": "code",
      "source": "random_seed = 2\n# Split the train and the validation set for the fitting\nX_train, X_val, Y_train, Y_val = train_test_split(X_train, Y_train, test_size = 0.1, random_state=random_seed)",
      "execution_count": null,
      "outputs": []
    },
    {
      "metadata": {
        "collapsed": true,
        "_cell_guid": "50627464-61fd-4bf0-b662-07cab081564d",
        "_uuid": "82407cf07e7f2eabcf0de27398a46cec8966f29e",
        "trusted": false
      },
      "cell_type": "code",
      "source": "#Defining the model architecture\nmodel = Sequential()\n\nmodel.add(Conv2D(filters = 32, kernel_size = (5,5),padding = 'Same', \n                 activation ='relu', input_shape = (28,28,1)))\nmodel.add(Conv2D(filters = 32, kernel_size = (5,5),padding = 'Same', \n                 activation ='relu'))\nmodel.add(MaxPool2D(pool_size=(2,2), strides=(2,2)))\nmodel.add(Dropout(0.25))\n\n\nmodel.add(Conv2D(filters = 64, kernel_size = (3,3),padding = 'Same', \n                 activation ='relu'))\nmodel.add(Conv2D(filters = 64, kernel_size = (3,3),padding = 'Same', \n                 activation ='relu'))\nmodel.add(MaxPool2D(pool_size=(2,2), strides=(2,2)))\nmodel.add(Dropout(0.25))\n\n\nmodel.add(Flatten())\nmodel.add(Dense(256, activation='relu'))\nmodel.add(Dropout(0.5))\n\nmodel.add(Dense(10, activation = \"softmax\"))",
      "execution_count": null,
      "outputs": []
    },
    {
      "metadata": {
        "collapsed": true,
        "_cell_guid": "7cf50abc-52df-4cad-8770-92a2b2f24027",
        "_uuid": "6901f8ef283e2dda053c48f2944ac1831475ce11",
        "trusted": false
      },
      "cell_type": "code",
      "source": "# Defining the optimizer\noptimizer = Adam(lr=0.001, beta_1=0.9, beta_2=0.999, epsilon=1e-08, decay=0.0, amsgrad=False)\n# Compiling the model\nmodel.compile(optimizer = optimizer , loss = \"categorical_crossentropy\", metrics=[\"accuracy\"])",
      "execution_count": null,
      "outputs": []
    },
    {
      "metadata": {
        "collapsed": true,
        "_cell_guid": "175ddf3b-10e0-448b-afdb-42aab91d7527",
        "_uuid": "ad4e1ad6f9474cc80a60c86f2c1950b68f00dd51",
        "trusted": false
      },
      "cell_type": "code",
      "source": "# Set a learning rate annealer\nlearning_rate_reduction = ReduceLROnPlateau(monitor='val_acc', \n                                            patience=3, \n                                            verbose=1, \n                                            factor=0.5, \n                                            min_lr=0.00001)",
      "execution_count": null,
      "outputs": []
    },
    {
      "metadata": {
        "collapsed": true,
        "_cell_guid": "148b92ec-d56a-460d-8b4b-695b31ce6a80",
        "_uuid": "62dc03c48f361e3cb09930f20a866364a3c811c2",
        "trusted": false
      },
      "cell_type": "code",
      "source": "epochs = 30 #Defining the no of epochs and batch_size\nbatch_size = 64 #computation should be faster for powers of 2",
      "execution_count": null,
      "outputs": []
    },
    {
      "metadata": {
        "collapsed": true,
        "_cell_guid": "64b0654b-0803-4233-8041-e2a264480748",
        "_uuid": "d3c8925b9fe36ee8a0ea50c48ba549881d7af6fc",
        "trusted": false
      },
      "cell_type": "code",
      "source": "#Using the technique of data augmentation\ndatagen = ImageDataGenerator(\n        featurewise_center=False,  # set input mean to 0 over the dataset\n        samplewise_center=False,  # set each sample mean to 0\n        featurewise_std_normalization=False,  # divide inputs by std of the dataset\n        samplewise_std_normalization=False,  # divide each input by its std\n        zca_whitening=False,  # apply ZCA whitening\n        rotation_range=10,  # randomly rotate images in the range (degrees, 0 to 180)\n        zoom_range = 0.1, # Randomly zoom image \n        width_shift_range=0.1,  # randomly shift images horizontally (fraction of total width)\n        height_shift_range=0.1,  # randomly shift images vertically (fraction of total height)\n        horizontal_flip=False,  # randomly flip images\n        vertical_flip=False)  # randomly flip images\n\n\ndatagen.fit(X_train)",
      "execution_count": null,
      "outputs": []
    },
    {
      "metadata": {
        "collapsed": true,
        "_cell_guid": "880c21e0-a5a5-4fdf-9c1c-5c5f30249533",
        "_uuid": "eee17a46aaa39e48d2568f8c287068c7fe08b8c0",
        "trusted": false
      },
      "cell_type": "code",
      "source": "# Fit the model\nhistory = model.fit_generator(datagen.flow(X_train,Y_train, batch_size=batch_size),\n                              epochs = epochs, validation_data = (X_val,Y_val),\n                              verbose = 2, steps_per_epoch=X_train.shape[0] // batch_size\n                              , callbacks=[learning_rate_reduction])",
      "execution_count": null,
      "outputs": []
    },
    {
      "metadata": {
        "collapsed": true,
        "_cell_guid": "8f5a1f37-21e7-4776-9e90-a40b7cbc39ab",
        "_uuid": "1051379e786ddc593dcddb607b21ff4b3b62322d",
        "trusted": false
      },
      "cell_type": "code",
      "source": "# predict results\nresults = model.predict(test)\n\n# select the index with the maximum probability for predicting the digits\nresults = np.argmax(results,axis = 1)\n\nresults = pd.Series(results,name=\"Label\")\n\nsubmission = pd.concat([pd.Series(range(1,28001),name = \"ImageId\"),results],axis = 1)\n\nsubmission.to_csv(\"cnn_mnist_datagen.csv\",index=False)",
      "execution_count": null,
      "outputs": []
    }
  ],
  "metadata": {
    "language_info": {
      "pygments_lexer": "ipython3",
      "mimetype": "text/x-python",
      "version": "3.6.4",
      "nbconvert_exporter": "python",
      "name": "python",
      "codemirror_mode": {
        "name": "ipython",
        "version": 3
      },
      "file_extension": ".py"
    },
    "kernelspec": {
      "display_name": "Python 3",
      "language": "python",
      "name": "python3"
    }
  },
  "nbformat": 4,
  "nbformat_minor": 1
}